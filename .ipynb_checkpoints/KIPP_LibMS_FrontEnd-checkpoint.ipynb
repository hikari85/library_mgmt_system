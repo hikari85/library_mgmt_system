{
 "cells": [
  {
   "cell_type": "markdown",
   "metadata": {},
   "source": [
    "### Module Imports"
   ]
  },
  {
   "cell_type": "code",
   "execution_count": 1,
   "metadata": {},
   "outputs": [],
   "source": [
    "import psycopg2 as pg\n",
    "import pandas as pd\n",
    "import utils"
   ]
  },
  {
   "cell_type": "markdown",
   "metadata": {},
   "source": [
    "### Connection to DB"
   ]
  },
  {
   "cell_type": "code",
   "execution_count": 2,
   "metadata": {},
   "outputs": [],
   "source": [
    "con,cur=utils.get_con_and_cur()"
   ]
  },
  {
   "cell_type": "markdown",
   "metadata": {},
   "source": [
    "### Method to Issue a Book"
   ]
  },
  {
   "cell_type": "code",
   "execution_count": 57,
   "metadata": {},
   "outputs": [],
   "source": [
    "def issue_item(student_name,book_name,due_date):\n",
    "    no_of_copies_available=cur.execute(f\"SELECT No_of_Copies FROM Books WHERE Name LIKE '%{book_name.title()}%'\")\n",
    "    no_of_copies_available=cur.fetchone()[0]\n",
    "    if(no_of_copies_available>0):\n",
    "        try:\n",
    "            member_id=cur.execute(f\"SELECT ID FROM Lib_Members WHERE Name LIKE '%{student_name}%'\")\n",
    "            member_id=cur.fetchone()[0]\n",
    "        except Exception as e:\n",
    "            con.rollback();return print(e,\"from Lib_Members\")\n",
    "        try:\n",
    "            accession_no=cur.execute(f\"SELECT Accession_No FROM Assets,Books WHERE Books.Name LIKE '%{book_name.title()}%' AND Books.ID=Assets.Asset_ID AND Assets.Accession_No NOT IN (SELECT Accession_No FROM Issue_Register WHERE Returned_Date IS NULL)\")\n",
    "            accession_no=cur.fetchone()[0]\n",
    "        except Exception as e:\n",
    "            con.rollback();return print(e,\"from Assets/Books\")\n",
    "        issue_date=cur.execute(\"SELECT CURRENT_DATE\")\n",
    "        issue_date=cur.fetchone()[0]\n",
    "        try:\n",
    "            cur.execute(f\"INSERT INTO Issue_Register(Accession_No,Member_ID,Issue_Date,Due_Date) VALUES ('{accession_no}','{member_id}','{issue_date}','{due_date}')\")\n",
    "            print(f\"Book '{book_name}' Issued Successfully\")\n",
    "            con.commit()\n",
    "        except Exception as e:\n",
    "            con.rollback();return print(e)\n",
    "    else:\n",
    "        return print(f\"No Copies available currently for the Book {book_name}\")"
   ]
  },
  {
   "cell_type": "code",
   "execution_count": 58,
   "metadata": {},
   "outputs": [],
   "source": [
    "def issue_a_book():\n",
    "    import datetime\n",
    "    student_name=input(\"Enter Name of the Library Member : \").strip().title()\n",
    "    book_name=input(\"Enter Name of the Book : \").strip().title()\n",
    "    str_due_date=input(\"Enter the Due Date in YYYY-MM-DD Format : \")\n",
    "    due_date=datetime.date(int(str_due_date.split(\"-\")[0]),int(str_due_date.split(\"-\")[1]),int(str_due_date.split(\"-\")[2]))\n",
    "    today=datetime.date.today()\n",
    "    if(due_date<today):\n",
    "        return print(\"Due Date Cannot be an Older Date\")\n",
    "    else:\n",
    "        if(student_name!='' and book_name!='' and due_date!=''):\n",
    "            issue_item(student_name,book_name,due_date)\n",
    "        else:\n",
    "            return print(\"Please Input Valid Details\")"
   ]
  },
  {
   "cell_type": "code",
   "execution_count": 59,
   "metadata": {},
   "outputs": [
    {
     "name": "stdout",
     "output_type": "stream",
     "text": [
      "'NoneType' object is not subscriptable from Lib_Members\n"
     ]
    }
   ],
   "source": [
    "issue_a_book()"
   ]
  },
  {
   "cell_type": "markdown",
   "metadata": {},
   "source": [
    "### Method to Collect a Book"
   ]
  },
  {
   "cell_type": "code",
   "execution_count": 75,
   "metadata": {},
   "outputs": [],
   "source": [
    "def collect_item(member_name,issue_id):\n",
    "    try:\n",
    "        member_id=cur.execute(f\"SELECT ID FROM Lib_Members WHERE Name LIKE '%{member_name}%'\")\n",
    "        member_id=cur.fetchone()[0]\n",
    "        cur.execute(f\"UPDATE Issue_Register SET Returned_Date=(SELECT CURRENT_DATE) WHERE Issue_ID={issue_id} AND Member_ID='{member_id}'\")\n",
    "        book_name=cur.execute(f\"SELECT Name FROM Books,Assets,Issue_Register WHERE Issue_Register.Issue_ID={issue_id} AND Assets.Accession_No=Issue_Register.Accession_No AND Assets.Asset_ID=Books.ID\")\n",
    "        book_name=cur.fetchone()[0]\n",
    "        print(f\"Book {book_name} Collected Successfully\")\n",
    "        con.commit()\n",
    "    except Exception as e:\n",
    "        con.rollback(); return print(e)"
   ]
  },
  {
   "cell_type": "code",
   "execution_count": 76,
   "metadata": {},
   "outputs": [],
   "source": [
    "def collect_a_book():\n",
    "    issue_id=int(input(\"Enter the Issue ID : \"))\n",
    "    member_name=input(\"Enter Name of the Library Member : \").strip().title()\n",
    "    if(member_name!=''):\n",
    "        collect_item(member_name=member_name,issue_id=issue_id)\n",
    "    else:\n",
    "        return print(\"Please Input Valid Details\")"
   ]
  },
  {
   "cell_type": "code",
   "execution_count": 77,
   "metadata": {},
   "outputs": [
    {
     "name": "stdout",
     "output_type": "stream",
     "text": [
      "Book Ikigai Collected Successfully\n"
     ]
    }
   ],
   "source": [
    "collect_a_book()"
   ]
  },
  {
   "cell_type": "markdown",
   "metadata": {},
   "source": [
    "### Method for Users to Rate&Review a Book"
   ]
  },
  {
   "cell_type": "code",
   "execution_count": 5,
   "metadata": {},
   "outputs": [],
   "source": [
    "def get_rating_and_review(member_name,rating,review):\n",
    "    import json\n",
    "    dict_data={\"Member\":f\"{member_name}\",\"Data\":{\"Rating\":f\"{rating}/5\",\"Review\":f\"{review}\"}}\n",
    "    return json.dumps(dict_data)"
   ]
  },
  {
   "cell_type": "code",
   "execution_count": 29,
   "metadata": {},
   "outputs": [],
   "source": [
    "def add_review():\n",
    "    import json\n",
    "    book_name=input(\"Enter Name of the Book you wish to Rate and Review : \").strip().title()\n",
    "    if(book_name!=''):\n",
    "        try:\n",
    "            cur.execute(f\"SELECT Name FROM Books WHERE Name LIKE '%{book_name}%'\")\n",
    "            book=cur.fetchone()[0]\n",
    "        except Exception as e:\n",
    "                con.rollback(); return print(e)\n",
    "        member=input(\"Please Enter Your Name : \").strip().title()\n",
    "        if(member!=''):\n",
    "            try:\n",
    "                cur.execute(f\"SELECT Name FROM Lib_Members WHERE Name LIKE '%{member}%'\")\n",
    "                member_name=cur.fetchone()[0]\n",
    "            except Exception as e:\n",
    "                con.rollback(); return print(e)\n",
    "            rating=int(input(\"Rate the Item Out of 5 : \"))\n",
    "            if(rating!=''):\n",
    "                review=input(\"Write your Review of the Item : \").strip().title()\n",
    "                if(review!=''):\n",
    "                    data=get_rating_and_review(member_name,rating,review)\n",
    "        try:\n",
    "            cur.execute(f\"UPDATE Books SET Ratings_and_Reviews={data} WHERE Name='{book}'\")\n",
    "            print(\"Rating and Review Added Successfully\")\n",
    "            con.commit()\n",
    "        except Exception as e:\n",
    "                con.rollback(); return print(e)\n",
    "    else:\n",
    "        return print(\"One or More Fields Empty, Please Try Again\")"
   ]
  },
  {
   "cell_type": "code",
   "execution_count": null,
   "metadata": {},
   "outputs": [],
   "source": [
    "add_review()"
   ]
  },
  {
   "cell_type": "markdown",
   "metadata": {},
   "source": [
    "### Method to Edit No_of_Copies of a Book"
   ]
  },
  {
   "cell_type": "code",
   "execution_count": 44,
   "metadata": {},
   "outputs": [],
   "source": [
    "def edit_copies(book_name,action,no_of_copies):\n",
    "    try:\n",
    "        cur.execute(f\"SELECT ID FROM Books WHERE Name LIKE '%{book_name}%'\")\n",
    "        isbn=cur.fetchone()[0]\n",
    "        cur.callproc('change_no_of_copies',(isbn,no_of_copies,f'{action}'))\n",
    "        con.commit()\n",
    "    except Exception as e:\n",
    "        con.rollback();return print(e)"
   ]
  },
  {
   "cell_type": "code",
   "execution_count": 45,
   "metadata": {},
   "outputs": [],
   "source": [
    "def modify_copies():\n",
    "    book_name=input(\"Enter Name of the Book : \").strip().title()\n",
    "    operation=input(\"Enter the Action (Add or Remove) : \")\n",
    "    if(\"add\" in operation.lower()):\n",
    "        no_of_copies=int(input(\"Enter the Number of Copies to be Added : \"))\n",
    "    elif(\"delete\" in operation.lower() or \"remove\" in operation.lower()):\n",
    "        no_of_copies=int(input(\"Enter the Number of Copies to be Deleted : \"))\n",
    "    if(book_name!='' and operation!='' and no_of_copies!=''):\n",
    "        if(\"add\" in operation.lower()):\n",
    "            edit_copies(book_name=book_name,action='increment',no_of_copies=no_of_copies)\n",
    "            return print(f\"Added {no_of_copies} Copies of Book '{book_name}'\")\n",
    "        elif(\"delete\" in operation.lower() or \"remove\" in operation.lower()):\n",
    "            edit_copies(book_name=book_name,action='decrement',no_of_copies=no_of_copies)\n",
    "            return print(f\"Removed {no_of_copies} Copies of Book '{book_name}'\")"
   ]
  },
  {
   "cell_type": "code",
   "execution_count": 47,
   "metadata": {},
   "outputs": [
    {
     "name": "stdout",
     "output_type": "stream",
     "text": [
      "Added 1 Copies of Book 'Ikigai'\n"
     ]
    }
   ],
   "source": [
    "modify_copies()"
   ]
  },
  {
   "cell_type": "markdown",
   "metadata": {},
   "source": [
    "### Method to Add a New Book"
   ]
  },
  {
   "cell_type": "code",
   "execution_count": 10,
   "metadata": {},
   "outputs": [],
   "source": [
    "def add_new_book(new_book_isbn,new_book_name,new_book_author_name,new_book_vendor_name,new_book_publisher_name,new_book_no_of_copies=1):\n",
    "    cur.execute(\"SELECT ID FROM Lib_Items\")\n",
    "    existing_isbn=[isbn[0] for isbn in cur.fetchall()]\n",
    "    if(new_book_isbn in existing_isbn):\n",
    "        return print(f\"The Book '{new_book_name}' already exists in the Records with ISBN '{new_book_isbn}'\")\n",
    "    cur.execute(\"SELECT Author_Name FROM Author\")\n",
    "    existing_authors=[author[0] for author in cur.fetchall()]\n",
    "    cur.execute(\"SELECT Vendor_Name FROM Vendor\")\n",
    "    existing_vendors=[vendor[0] for vendor in cur.fetchall()]\n",
    "    cur.execute(\"SELECT Publisher_Name FROM Publisher\")\n",
    "    existing_publishers=[publisher[0] for publisher in cur.fetchall()]\n",
    "    if(new_book_vendor_name not in existing_vendors):\n",
    "        cur.execute(f\"INSERT INTO Vendor(Vendor_Name) VALUES ('{new_book_vendor_name}')\")\n",
    "        con.commit()\n",
    "    if(new_book_publisher_name not in existing_publishers):\n",
    "        cur.execute(f\"INSERT INTO Publisher(Publisher_Name) VALUES ('{new_book_publisher_name}')\")\n",
    "        con.commit()\n",
    "    for author in new_book_author_name.split(\",\"):\n",
    "        if(author not in existing_authors):\n",
    "            cur.execute(f\"INSERT INTO Author(Author_Name) VALUES ('{author.strip().title()}')\")\n",
    "            con.commit()\n",
    "    cur.execute(f\"SELECT Publisher_ID FROM Publisher WHERE Publisher_Name='{new_book_publisher_name}'\")\n",
    "    publisher_id=cur.fetchone()[0]\n",
    "    cur.execute(f\"SELECT Vendor_ID FROM Vendor WHERE Vendor_Name='{new_book_vendor_name}'\")\n",
    "    vendor_id=cur.fetchone()[0]\n",
    "    try:\n",
    "        cur.execute(f\"INSERT INTO Lib_Items(ID,Name,Publisher_ID,Vendor_ID,No_of_Copies) VALUES ('{new_book_isbn}','{new_book_name}','{publisher_id}','{vendor_id}','{new_book_no_of_copies}')\")\n",
    "        cur.execute(f\"INSERT INTO Books(ID,Name,Publisher_ID,Vendor_ID,No_of_Copies) VALUES ('{new_book_isbn}','{new_book_name}','{publisher_id}','{vendor_id}','{new_book_no_of_copies}')\")\n",
    "        con.commit()\n",
    "        print(f\"Successfully Added the Book '{new_book_name}' in the Records.\")\n",
    "    except Exception as e:\n",
    "        con.rollback();return print(e)\n",
    "    try:\n",
    "        for author in new_book_author_name.split(\",\"):\n",
    "            cur.execute(f\"SELECT Author_ID FROM Author WHERE Author_Name='{author.strip().title()}'\")\n",
    "            author_id=cur.fetchone()[0]\n",
    "            book_id=new_book_isbn\n",
    "            cur.execute(\"INSERT INTO Book_Author(Book_ID,Author_ID) VALUES (%s,%s)\",(book_id,author_id))\n",
    "            con.commit()\n",
    "    except Exception as e:\n",
    "        con.rollback();return print(e)\n",
    "    try:\n",
    "        for i in range(new_book_no_of_copies):\n",
    "            cur.execute(f\"INSERT INTO Assets(Asset_ID) VALUES ('{new_book_isbn}')\")\n",
    "        con.commit()\n",
    "    except Exception as e:\n",
    "        con.rollback();return print(e)\n",
    "    return print(f\"Also Added all the Corresponding Data in the Book_Author Association and Assets Table.\")"
   ]
  },
  {
   "cell_type": "code",
   "execution_count": 4,
   "metadata": {},
   "outputs": [],
   "source": [
    "def add_book():\n",
    "    isbn=input(\"Enter ISBN of the New Book : \").strip().title()\n",
    "    name=input(\"Enter Name of the New Book : \").strip().title()\n",
    "    author=input(\"Enter Authors of the New Book(If multiple authors, seperate by ',') : \").strip().title()\n",
    "    vendor=input(\"Enter Vendor of the New Book : \").strip().title()\n",
    "    publisher=input(\"Enter Publisher of the New Book : \").strip().title()\n",
    "    no_of_copies=int(input(\"Enter Number of Copies of the New Book : \"))\n",
    "    if(isbn!='' and name!='' and author!='' and vendor!='' and publisher!=''):\n",
    "        add_new_book(isbn,name,author,vendor,publisher,no_of_copies)\n",
    "    else:\n",
    "        return print(\"Fields cannot be Empty. Try Again\")"
   ]
  },
  {
   "cell_type": "code",
   "execution_count": 11,
   "metadata": {},
   "outputs": [
    {
     "name": "stdout",
     "output_type": "stream",
     "text": [
      "Successfully Added the Book 'Rvu' in the Records.\n",
      "Also Added all the Corresponding Data in the Book_Author Association and Assets Table.\n"
     ]
    }
   ],
   "source": [
    "add_book()"
   ]
  },
  {
   "cell_type": "markdown",
   "metadata": {},
   "source": [
    "### Method to Search for a Book"
   ]
  },
  {
   "cell_type": "code",
   "execution_count": 39,
   "metadata": {},
   "outputs": [],
   "source": [
    "def search_for_book(book_name,isbn=None):\n",
    "    if(book_name!=None and isbn==None):\n",
    "        try:\n",
    "            return print(pd.read_sql(f\"SELECT ID as ISBN,Name,Publisher.Publisher_Name,No_of_Copies FROM Books,Publisher WHERE Books.Name LIKE '%{book_name}%' AND Books.Publisher_ID=Publisher.Publisher_ID\",con))\n",
    "        except Exception as e:\n",
    "            con.rollback();print(e)\n",
    "    elif(book_name==None and isbn!=None):\n",
    "        try:\n",
    "            return print(pd.read_sql(f\"SELECT ID as ISBN,Name,Publisher.Publisher_Name,No_of_Copies FROM Books,Publisher WHERE Books.ID='{isbn}' AND Books.Publisher_ID=Publisher.Publisher_ID\",con))\n",
    "        except Exception as e:\n",
    "            con.rollback();print(e)"
   ]
  },
  {
   "cell_type": "code",
   "execution_count": 34,
   "metadata": {},
   "outputs": [],
   "source": [
    "def search():\n",
    "    choice=int(input(\"Press 1 if you want to search by Book Name or 2 if you want to search by ISBN : \"))\n",
    "    if(choice not in [1,2]):\n",
    "        return print(\"Please Select a Valid Option\")\n",
    "    if(choice==1):\n",
    "        book_name=input(\"Enter the Name of the Book : \").strip().title()\n",
    "        if(book_name!=''):\n",
    "            search_for_book(book_name)\n",
    "        else:\n",
    "            return print(\"Book Name cannot be empty. Try Again\")\n",
    "    elif(choice==2):\n",
    "        isbn=input(\"Enter the ISBN of the Book : \").strip()\n",
    "        if(isbn!=''):\n",
    "            search_for_book(isbn)\n",
    "        else:\n",
    "            return print(\"ISBN cannot be empty. Try Again\")"
   ]
  },
  {
   "cell_type": "code",
   "execution_count": 40,
   "metadata": {},
   "outputs": [
    {
     "name": "stdout",
     "output_type": "stream",
     "text": [
      "             isbn    name publisher_name  no_of_copies\n",
      "0  978-1786330895  Ikigai     Hutchinson             1\n"
     ]
    },
    {
     "name": "stderr",
     "output_type": "stream",
     "text": [
      "C:\\Users\\Kishore\\AppData\\Local\\Temp\\ipykernel_13316\\764925390.py:4: UserWarning: pandas only supports SQLAlchemy connectable (engine/connection) or database string URI or sqlite3 DBAPI2 connection. Other DBAPI2 objects are not tested. Please consider using SQLAlchemy.\n",
      "  return print(pd.read_sql(f\"SELECT ID as ISBN,Name,Publisher.Publisher_Name,No_of_Copies FROM Books,Publisher WHERE Books.Name LIKE '%{book_name}%' AND Books.Publisher_ID=Publisher.Publisher_ID\",con))\n"
     ]
    }
   ],
   "source": [
    "search()"
   ]
  },
  {
   "cell_type": "markdown",
   "metadata": {},
   "source": [
    "### Method to Recommend a Book"
   ]
  },
  {
   "cell_type": "code",
   "execution_count": 100,
   "metadata": {},
   "outputs": [],
   "source": [
    "def recommend_a_book():\n",
    "    book_name=input(\"Enter Name of the Book : \").strip().title()\n",
    "    authors=input(\"Enter Authors of the New Book(If multiple authors, seperate by ',') : \").strip().title()\n",
    "    publisher=input(\"Enter Publisher of the Book : \").strip().title()\n",
    "    try:\n",
    "        cur.execute(f\"SELECT ID,Name,Publisher.Publisher_Name FROM Books,Publisher WHERE Books.Name LIKE '%{book_name}%'AND Publisher.Publisher_Name LIKE '%{publisher}%' AND Books.Publisher_ID=Publisher.Publisher_ID\")\n",
    "        res=cur.fetchone()\n",
    "        if(res==None):\n",
    "            cur.execute(\"SELECT COUNT(*) FROM Book_Recommendations\")\n",
    "            if(cur.fetchone()[0]!=0):\n",
    "                cur.execute(\"SELECT Book_Name FROM Book_Recommendations\")\n",
    "                existing_recommendations=[book[0] for book in cur.fetchall()]\n",
    "                cur.execute(\"SELECT Author_Name FROM Book_Recommendations\")\n",
    "                existing_authors=[author[0] for author in cur.fetchall()]\n",
    "                if(book_name not in existing_recommendations):\n",
    "                    cur.execute(f\"INSERT INTO Book_Recommendations(Book_Name,Author_Name,Publisher_Name,Count) VALUES ('{book_name}','{authors}','{publisher}',1) \")\n",
    "                    con.commit()\n",
    "                elif(book_name in existing_recommendations and authors in existing_authors):\n",
    "                    cur.execute(f\"SELECT Count FROM Book_Recommendations WHERE Book_Name='{book_name}' AND Author_Name='{authors}'\")\n",
    "                    existing_count=cur.fetchone()[0]\n",
    "                    updated_count=existing_count+1\n",
    "                    cur.execute(f\"UPDATE Book_Recommendations SET Count={updated_count} WHERE Book_Name='{book_name}' AND Author_Name='{authors}'\")\n",
    "                    con.commit()\n",
    "            else:\n",
    "                cur.execute(f\"INSERT INTO Book_Recommendations(Book_Name,Author_Name,Publisher_Name,Count) VALUES ('{book_name}','{authors}','{publisher}',1) \")\n",
    "                con.commit()\n",
    "        else:\n",
    "            return print(f\"Book '{book_name}' Already Exists in the Library with ISBN '{res[0]}'\")\n",
    "        return print(\"Added Recommendation Successfully\")\n",
    "    except Exception as e:\n",
    "        con.rollback();print(e)"
   ]
  },
  {
   "cell_type": "code",
   "execution_count": 101,
   "metadata": {},
   "outputs": [
    {
     "name": "stdout",
     "output_type": "stream",
     "text": [
      "Added Recommendation Successfully\n"
     ]
    }
   ],
   "source": [
    "recommend_a_book()"
   ]
  }
 ],
 "metadata": {
  "kernelspec": {
   "display_name": "Python 3",
   "language": "python",
   "name": "python3"
  },
  "language_info": {
   "codemirror_mode": {
    "name": "ipython",
    "version": 3
   },
   "file_extension": ".py",
   "mimetype": "text/x-python",
   "name": "python",
   "nbconvert_exporter": "python",
   "pygments_lexer": "ipython3",
   "version": "3.12.0"
  }
 },
 "nbformat": 4,
 "nbformat_minor": 2
}
