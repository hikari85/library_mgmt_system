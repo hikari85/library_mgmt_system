{
 "cells": [
  {
   "cell_type": "markdown",
   "metadata": {
    "id": "OikdJpKVZwpu"
   },
   "source": [
    "### Module Imports"
   ]
  },
  {
   "cell_type": "code",
   "execution_count": 1,
   "metadata": {
    "id": "QmzdwVLJZwp1"
   },
   "outputs": [],
   "source": [
    "import pandas as pd\n",
    "import psycopg2 as pg\n",
    "import os\n",
    "import pprint\n",
    "import sqlite3 as lite"
   ]
  },
  {
   "cell_type": "markdown",
   "metadata": {
    "id": "Yl7rL61nZwp5"
   },
   "source": [
    "### Lookup Tables"
   ]
  },
  {
   "cell_type": "code",
   "execution_count": null,
   "metadata": {
    "id": "QldXqSs8Zwp6"
   },
   "outputs": [],
   "source": [
    "schema_author=\"\"\"CREATE TABLE Author (\n",
    "  Author_ID SERIAL PRIMARY KEY,\n",
    "  Author_Name TEXT UNIQUE\n",
    ");\"\"\""
   ]
  },
  {
   "cell_type": "code",
   "execution_count": null,
   "metadata": {
    "id": "SryEDxOZZwp7"
   },
   "outputs": [],
   "source": [
    "\n",
    "schema_publisher=\"\"\"CREATE TABLE Publisher (\n",
    "  Publisher_ID SERIAL PRIMARY KEY,\n",
    "  Publisher_Name TEXT UNIQUE\n",
    ");\"\"\""
   ]
  },
  {
   "cell_type": "code",
   "execution_count": null,
   "metadata": {
    "id": "UG6UzvytZwp9"
   },
   "outputs": [],
   "source": [
    "\n",
    "schema_vendor=\"\"\"CREATE TABLE Vendor (\n",
    "  Vendor_ID SERIAL PRIMARY KEY,\n",
    "  Vendor_Name TEXT UNIQUE\n",
    ");\"\"\""
   ]
  },
  {
   "cell_type": "code",
   "execution_count": null,
   "metadata": {
    "id": "7AXnZGDpZwp-"
   },
   "outputs": [],
   "source": [
    "\n",
    "schema_courses=\"\"\"CREATE TABLE Courses (\n",
    "  Course_ID SERIAL PRIMARY KEY,\n",
    "  Course_Name TEXT UNIQUE\n",
    ");\"\"\""
   ]
  },
  {
   "cell_type": "code",
   "execution_count": null,
   "metadata": {
    "id": "uFj7SgFFZwqB"
   },
   "outputs": [],
   "source": [
    "\n",
    "schema_schools=\"\"\"CREATE TABLE Schools (\n",
    "  School_ID SERIAL PRIMARY KEY,\n",
    "  School_Name TEXT UNIQUE\n",
    ");\"\"\""
   ]
  },
  {
   "cell_type": "markdown",
   "metadata": {
    "id": "V-GJPPYgZwqC"
   },
   "source": [
    "### Inheritance"
   ]
  },
  {
   "cell_type": "code",
   "execution_count": null,
   "metadata": {
    "id": "gaSkuykEZwqC"
   },
   "outputs": [],
   "source": [
    "schema_lib_members=\"\"\"CREATE TABLE Lib_Members (\n",
    "  ID TEXT PRIMARY KEY,\n",
    "  Name TEXT,\n",
    "  EMail TEXT\n",
    ");\"\"\""
   ]
  },
  {
   "cell_type": "code",
   "execution_count": null,
   "metadata": {
    "id": "gFz2Vv2RZwqD"
   },
   "outputs": [],
   "source": [
    "schema_staff=\"\"\"\n",
    "CREATE TABLE Staff (\n",
    "  ID TEXT PRIMARY KEY\n",
    ") INHERITS (Lib_Members);\"\"\""
   ]
  },
  {
   "cell_type": "code",
   "execution_count": null,
   "metadata": {
    "id": "fpS4jDVhZwqE"
   },
   "outputs": [],
   "source": [
    "\n",
    "schema_faculty=\"\"\"CREATE TABLE Faculty (\n",
    "  ID TEXT PRIMARY KEY,\n",
    "  School_ID INT,\n",
    "  FOREIGN KEY(School_ID) REFERENCES Schools(School_ID)\n",
    ") INHERITS (Lib_Members);\"\"\"\n"
   ]
  },
  {
   "cell_type": "code",
   "execution_count": null,
   "metadata": {
    "id": "5mDjJ7A8ZwqF"
   },
   "outputs": [],
   "source": [
    "\n",
    "schema_students=\"\"\"CREATE TABLE Students (\n",
    "  ID TEXT PRIMARY KEY,\n",
    "  Course_ID INT,\n",
    "  School_ID INT,\n",
    "  FOREIGN KEY(School_ID) REFERENCES Schools(School_ID),\n",
    "  FOREIGN KEY(Course_ID) REFERENCES Courses(Course_ID)\n",
    ") INHERITS (Lib_Members);\"\"\"\n"
   ]
  },
  {
   "cell_type": "code",
   "execution_count": null,
   "metadata": {
    "id": "vLuGcrKwZwqG"
   },
   "outputs": [],
   "source": [
    "\n",
    "schema_lib_items=\"\"\"CREATE TABLE Lib_Items (\n",
    "  ID TEXT PRIMARY KEY,\n",
    "  Name TEXT,\n",
    "  Publisher_ID INT,\n",
    "  Vendor_ID INT,\n",
    "  No_of_Copies INT,\n",
    "  Ratings_and_Reviews JSON\n",
    ");\"\"\"\n"
   ]
  },
  {
   "cell_type": "code",
   "execution_count": null,
   "metadata": {
    "id": "B4k4v_22ZwqG"
   },
   "outputs": [],
   "source": [
    "\n",
    "schema_books=\"\"\"CREATE TABLE Books (\n",
    "  ID TEXT PRIMARY KEY\n",
    ") INHERITS (Lib_Items);\"\"\"\n"
   ]
  },
  {
   "cell_type": "markdown",
   "metadata": {
    "id": "r9GfnwgQZwqH"
   },
   "source": [
    "### Others"
   ]
  },
  {
   "cell_type": "code",
   "execution_count": null,
   "metadata": {
    "id": "GGhUib0nZwqH"
   },
   "outputs": [],
   "source": [
    "\n",
    "schema_assets=\"\"\"CREATE TABLE Assets (\n",
    "  Accession_No SERIAL,\n",
    "  Asset_ID TEXT,\n",
    "  PRIMARY KEY (Accession_No),\n",
    "  FOREIGN KEY(Asset_ID) REFERENCES Lib_Items(ID)\n",
    ");\"\"\"\n"
   ]
  },
  {
   "cell_type": "code",
   "execution_count": null,
   "metadata": {
    "id": "YyU-MLiVZwqI"
   },
   "outputs": [],
   "source": [
    "schema_reservations=\"\"\"CREATE TABLE Reservations (\n",
    "  Reservation_ID SERIAL PRIMARY KEY,\n",
    "  Member_ID TEXT,\n",
    "  Reserve_Date DATE,\n",
    "  Asset_ID TEXT,\n",
    "  FOREIGN KEY(Asset_ID) REFERENCES Lib_Items(ID),\n",
    "  FOREIGN KEY(Member_ID) REFERENCES Lib_Members(ID)\n",
    ");\"\"\""
   ]
  },
  {
   "cell_type": "code",
   "execution_count": null,
   "metadata": {
    "id": "hzDrC4lpZwqJ"
   },
   "outputs": [],
   "source": [
    "\n",
    "schema_book_author=\"\"\"CREATE TABLE Book_Author (\n",
    "  Book_ID TEXT,\n",
    "  Author_ID INT,\n",
    "  FOREIGN KEY(Book_ID) REFERENCES Books(ID),\n",
    "  FOREIGN KEY(Author_ID) REFERENCES Author(Author_ID)\n",
    ");\"\"\"\n"
   ]
  },
  {
   "cell_type": "code",
   "execution_count": null,
   "metadata": {
    "id": "bn3JUmdFZwqJ"
   },
   "outputs": [],
   "source": [
    "\n",
    "schema_issue_register=\"\"\"CREATE TABLE Issue_Register (\n",
    "  Issue_ID SERIAL PRIMARY KEY,\n",
    "  Accession_No INT,\n",
    "  Member_ID TEXT,\n",
    "  Issue_Date DATE,\n",
    "  Due_Date DATE,\n",
    "  Returned_Date DATE,\n",
    "  FOREIGN KEY(Accession_No) REFERENCES Assets(Accession_No),\n",
    "  FOREIGN KEY(Member_ID) REFERENCES Lib_Members(ID)\n",
    ");\"\"\"\n"
   ]
  },
  {
   "cell_type": "code",
   "execution_count": null,
   "metadata": {
    "id": "px-Oh00pZwqK"
   },
   "outputs": [],
   "source": [
    "\n",
    "schema_defaulters=\"\"\"CREATE TABLE Defaulters (\n",
    "  Member_ID TEXT,\n",
    "  Issue_ID INT,\n",
    "  Days_Delayed INT,\n",
    "  FOREIGN KEY(Member_ID) REFERENCES Lib_Members(ID),\n",
    "  FOREIGN KEY(Issue_ID) REFERENCES Issue_Register(Issue_ID)\n",
    ");\"\"\"\n"
   ]
  },
  {
   "cell_type": "code",
   "execution_count": null,
   "metadata": {
    "id": "jQKYMMZNZwqK"
   },
   "outputs": [],
   "source": [
    "\n",
    "schema_book_recommendations=\"\"\"CREATE TABLE Book_Recommendations (\n",
    "  Book_Name TEXT,\n",
    "  Author_Name TEXT,\n",
    "  Publisher_Name TEXT,\n",
    "  Count INT\n",
    ");\"\"\"\n"
   ]
  },
  {
   "cell_type": "markdown",
   "metadata": {
    "id": "N0G51mjXZwqL"
   },
   "source": [
    "### Utilities"
   ]
  },
  {
   "cell_type": "code",
   "execution_count": null,
   "metadata": {
    "id": "Yje_1ZfEZwqM"
   },
   "outputs": [],
   "source": [
    "def get_con_and_cur(dbname=\"LibMS\"):\n",
    "    con=pg.connect(host=\"localhost\",port=\"5432\",database=dbname,user=\"postgres\",password=\"pg@postgres\")\n",
    "    cur=con.cursor()\n",
    "    return con,cur"
   ]
  },
  {
   "cell_type": "code",
   "execution_count": null,
   "metadata": {
    "id": "bWfISRaHZwqM"
   },
   "outputs": [],
   "source": [
    "def list_all_tables(cur):\n",
    "    cur.execute(\"\"\"SELECT table_name FROM information_schema.tables\n",
    "       WHERE table_schema = 'public'\"\"\")\n",
    "    tables = [t[0] for t in cur.fetchall()]\n",
    "    return tables"
   ]
  },
  {
   "cell_type": "code",
   "execution_count": null,
   "metadata": {
    "id": "mYOrfcD2ZwqN"
   },
   "outputs": [],
   "source": [
    "def delete_all_tables(con,cur):\n",
    "    tables=list_all_tables(cur)\n",
    "    for table in tables:\n",
    "        try:\n",
    "            cur.execute(f\"\"\"DROP TABLE IF EXISTS {table} CASCADE\"\"\")\n",
    "            con.commit()\n",
    "        except Exception as e:\n",
    "            print(e)\n",
    "            con.rollback()"
   ]
  },
  {
   "cell_type": "code",
   "execution_count": null,
   "metadata": {
    "id": "Scha70eXZwqO"
   },
   "outputs": [],
   "source": [
    "def clear_table(con,cur,tbname):\n",
    "    try:\n",
    "        cur.execute(f\"DELETE FROM {tbname}\")\n",
    "        print(f\"All Records in Table '{tbname}' Deleted\")\n",
    "        con.commit()\n",
    "    except Exception as e:\n",
    "        print(e)\n",
    "        con.rollback()"
   ]
  },
  {
   "cell_type": "code",
   "execution_count": null,
   "metadata": {
    "id": "pVuKwUsFZwqP"
   },
   "outputs": [],
   "source": [
    "def delete_table(con,cur,tbname):\n",
    "    try:\n",
    "        cur.execute(f\"DROP TABLE IF EXISTS {tbname}\")\n",
    "        print(f\"Table '{tbname}' Deleted Successfully\")\n",
    "        con.commit()\n",
    "    except Exception as e:\n",
    "        print(e)\n",
    "        con.rollback()"
   ]
  },
  {
   "cell_type": "code",
   "execution_count": null,
   "metadata": {
    "id": "j74cF4euZwqQ"
   },
   "outputs": [],
   "source": [
    "def create_all_tables(con,cur):\n",
    "    schemas=[schema_author,schema_publisher,schema_vendor,schema_courses,schema_schools,schema_lib_members,schema_staff,schema_faculty,schema_students,schema_lib_items,schema_books,schema_assets,schema_reservations,schema_book_author,schema_issue_register,schema_defaulters,schema_book_recommendations]\n",
    "    for schema in schemas:\n",
    "        try:\n",
    "            cur.execute(schema)\n",
    "            print(f\"Table {schema.split()[2]} Created\")\n",
    "            con.commit()\n",
    "        except Exception as e:\n",
    "            print(e)\n",
    "            con.rollback()"
   ]
  },
  {
   "cell_type": "markdown",
   "metadata": {
    "id": "FNd5Qm5NZwqQ"
   },
   "source": [
    "### Getting Connection and Cursor"
   ]
  },
  {
   "cell_type": "code",
   "execution_count": null,
   "metadata": {
    "id": "WzTJdGoaZwqR"
   },
   "outputs": [],
   "source": [
    "con.close()"
   ]
  },
  {
   "cell_type": "code",
   "execution_count": null,
   "metadata": {
    "id": "y3A6AABsZwqR"
   },
   "outputs": [],
   "source": [
    "con,cur=get_con_and_cur()"
   ]
  },
  {
   "cell_type": "markdown",
   "metadata": {
    "id": "mourPBgLZwqS"
   },
   "source": [
    "### Creating Tables"
   ]
  },
  {
   "cell_type": "code",
   "execution_count": null,
   "metadata": {
    "id": "-AUxdTMGZwqT"
   },
   "outputs": [],
   "source": [
    "delete_all_tables(con,cur)"
   ]
  },
  {
   "cell_type": "code",
   "execution_count": null,
   "metadata": {
    "id": "xBLpRC2uZwqT",
    "outputId": "addba5ea-1d78-459c-d7c1-16e03dcf189e"
   },
   "outputs": [
    {
     "name": "stdout",
     "output_type": "stream",
     "text": [
      "Table Author Created\n",
      "Table Publisher Created\n",
      "Table Vendor Created\n",
      "Table Courses Created\n",
      "Table Schools Created\n",
      "Table Lib_Members Created\n",
      "Table Staff Created\n",
      "Table Faculty Created\n",
      "Table Students Created\n",
      "Table Lib_Items Created\n",
      "Table Books Created\n",
      "Table Assets Created\n",
      "Table Reservations Created\n",
      "Table Book_Author Created\n",
      "Table Issue_Register Created\n",
      "Table Defaulters Created\n",
      "Table Book_Recommendations Created\n"
     ]
    }
   ],
   "source": [
    "create_all_tables(con,cur)"
   ]
  },
  {
   "cell_type": "markdown",
   "metadata": {
    "id": "q4DsDNLWZwqW"
   },
   "source": [
    "### Inserting Data in Schools Table"
   ]
  },
  {
   "cell_type": "code",
   "execution_count": null,
   "metadata": {
    "id": "UeXfRK-ZZwqW"
   },
   "outputs": [],
   "source": [
    "with lite.connect('./Data/db_Library_ref.sqlite') as lite_con:\n",
    "    schools_data=[[school[0]] for school in lite_con.execute(\"SELECT Dept FROM Department\").fetchall()]"
   ]
  },
  {
   "cell_type": "code",
   "execution_count": null,
   "metadata": {
    "id": "OeMjp8ElZwqX"
   },
   "outputs": [],
   "source": [
    "schools_data"
   ]
  },
  {
   "cell_type": "code",
   "execution_count": null,
   "metadata": {
    "id": "M3VbiIMXZwqX",
    "outputId": "0e0d0d60-481f-459b-c11f-a19f5025d7c0"
   },
   "outputs": [
    {
     "name": "stdout",
     "output_type": "stream",
     "text": [
      "Inserted Records into 'Schools' Table\n"
     ]
    }
   ],
   "source": [
    "try:\n",
    "    cur.executemany(\"INSERT INTO Schools(School_Name) VALUES (%s)\",schools_data)\n",
    "    print(\"Inserted Records into 'Schools' Table\")\n",
    "    con.commit()\n",
    "except Exception as e:\n",
    "    print(e)\n",
    "    con.rollback()"
   ]
  },
  {
   "cell_type": "markdown",
   "metadata": {
    "id": "PNGSYfxkZwqq"
   },
   "source": [
    "### Inserting Data in Courses Table"
   ]
  },
  {
   "cell_type": "code",
   "execution_count": null,
   "metadata": {
    "id": "pPRFfI7bZwqq",
    "outputId": "ae48a0db-6213-4d3b-d97c-6ffe5b63a3ad"
   },
   "outputs": [
    {
     "name": "stdout",
     "output_type": "stream",
     "text": [
      "Inserted Records into 'Courses' Table\n"
     ]
    }
   ],
   "source": [
    "courses_data=[['BSC'],['BTECH'],['BCA'],['MTECH'],['BBA'],['BCOM'],['BDES']]\n",
    "try:\n",
    "    cur.executemany(\"INSERT INTO Courses(Course_Name) VALUES (%s)\",courses_data)\n",
    "    print(\"Inserted Records into 'Courses' Table\")\n",
    "    con.commit()\n",
    "except Exception as e:\n",
    "    print(e)\n",
    "    con.rollback()"
   ]
  },
  {
   "cell_type": "markdown",
   "metadata": {
    "id": "aa23MJCQZwqr"
   },
   "source": [
    "### Inserting Data in Students Table"
   ]
  },
  {
   "cell_type": "code",
   "execution_count": null,
   "metadata": {
    "id": "rw_IcYO2Zwqr"
   },
   "outputs": [],
   "source": [
    "students_df=pd.read_excel('./Data/SoCSE_Student.xlsx')"
   ]
  },
  {
   "cell_type": "code",
   "execution_count": null,
   "metadata": {
    "id": "bbXLhbe5Zwqs"
   },
   "outputs": [],
   "source": [
    "students_df.columns"
   ]
  },
  {
   "cell_type": "code",
   "execution_count": null,
   "metadata": {
    "id": "gxoM_1OEZwqt"
   },
   "outputs": [],
   "source": [
    "students_data=[]\n",
    "for student in students_df.iterrows():\n",
    "    row=student[1]\n",
    "    id,name,email=row['USN'],row['Name'],row['EMail_ID']\n",
    "    school_id=cur.execute(f\"SELECT School_ID FROM Schools WHERE School_Name LIKE '%School of Computer Science and Engineering%'\")\n",
    "    school_id=cur.fetchone()[0]\n",
    "    course_id=cur.execute(f\"SELECT Course_ID FROM Courses WHERE Course_Name='{row['Course']}'\")\n",
    "    course_id=cur.fetchone()[0]\n",
    "    students_data.append([id,name,email,school_id,course_id])"
   ]
  },
  {
   "cell_type": "code",
   "execution_count": null,
   "metadata": {
    "id": "XHQfv_rkZwqt",
    "outputId": "17744da1-34cb-4c2d-9bc3-0d107d58d524"
   },
   "outputs": [
    {
     "name": "stdout",
     "output_type": "stream",
     "text": [
      "Inserted Records into 'Students'\n"
     ]
    }
   ],
   "source": [
    "try:\n",
    "    cur.executemany(\"INSERT INTO Students(ID,Name,EMail,School_ID,Course_ID) VALUES (%s,%s,%s,%s,%s)\",students_data)\n",
    "    print(\"Inserted Records into 'Students'\")\n",
    "    con.commit()\n",
    "except Exception as e:\n",
    "    print(e)\n",
    "    con.rollback()"
   ]
  },
  {
   "cell_type": "code",
   "execution_count": null,
   "metadata": {
    "id": "G3xMbLZPZwqu"
   },
   "outputs": [],
   "source": [
    "student_only_lib_data=[[data[0],data[1],data[2]] for data in students_data]"
   ]
  },
  {
   "cell_type": "code",
   "execution_count": null,
   "metadata": {
    "id": "sdgG3fnFZwqu",
    "outputId": "f0a7c36c-8266-460f-ade7-be3b4de9a1c8"
   },
   "outputs": [
    {
     "name": "stdout",
     "output_type": "stream",
     "text": [
      "Inserted Records into 'Lib_Members'\n"
     ]
    }
   ],
   "source": [
    "try:\n",
    "    cur.executemany(\"INSERT INTO Lib_Members(ID,Name,EMail) VALUES (%s,%s,%s)\",student_only_lib_data)\n",
    "    print(\"Inserted Records into 'Lib_Members'\")\n",
    "    con.commit()\n",
    "except Exception as e:\n",
    "    print(e)\n",
    "    con.rollback()"
   ]
  },
  {
   "cell_type": "markdown",
   "metadata": {
    "id": "zp1117qkZwqv"
   },
   "source": [
    "### Inserting Data in Faculty Table"
   ]
  },
  {
   "cell_type": "code",
   "execution_count": null,
   "metadata": {
    "id": "RE5b-xw-Zwqx"
   },
   "outputs": [],
   "source": [
    "faculty_df=pd.read_excel('./Data/SoCSE_Faculty.xlsx')"
   ]
  },
  {
   "cell_type": "code",
   "execution_count": null,
   "metadata": {
    "id": "OQXkfD5jZwqx",
    "outputId": "01422fc4-32be-474b-8bc1-93f384ff3371"
   },
   "outputs": [
    {
     "data": {
      "text/plain": [
       "Index(['EMail_Name', 'Name', 'EMail_ID', 'Employee_ID', 'Type', 'Designation'], dtype='object')"
      ]
     },
     "execution_count": 9,
     "metadata": {},
     "output_type": "execute_result"
    }
   ],
   "source": [
    "faculty_df.columns"
   ]
  },
  {
   "cell_type": "code",
   "execution_count": null,
   "metadata": {
    "id": "ZFccPQNGZwqy"
   },
   "outputs": [],
   "source": [
    "faculty_data=[]\n",
    "for row in faculty_df.iterrows():\n",
    "    faculty=row[1]\n",
    "    id,name,email=faculty['EMail_Name'],faculty['Name'],faculty['EMail_ID']\n",
    "    school_id=cur.execute(f\"SELECT School_ID FROM Schools WHERE School_Name LIKE '%School of Computer Science and Engineering%'\")\n",
    "    school_id=cur.fetchone()[0]\n",
    "    faculty_data.append([id,name,email,school_id])"
   ]
  },
  {
   "cell_type": "code",
   "execution_count": null,
   "metadata": {
    "id": "OG1giAaEZwqz",
    "outputId": "5fd94cde-99ed-4d8c-e49a-3402f3ca2d10"
   },
   "outputs": [
    {
     "name": "stdout",
     "output_type": "stream",
     "text": [
      "Inserted Records into 'Faculty'\n"
     ]
    }
   ],
   "source": [
    "try:\n",
    "    cur.executemany(\"INSERT INTO Faculty(ID,Name,EMail,School_ID) VALUES (%s,%s,%s,%s)\",faculty_data)\n",
    "    print(\"Inserted Records into 'Faculty'\")\n",
    "    con.commit()\n",
    "except Exception as e:\n",
    "    print(e)\n",
    "    con.rollback()"
   ]
  },
  {
   "cell_type": "code",
   "execution_count": null,
   "metadata": {
    "id": "te7mJyf7Zwq0"
   },
   "outputs": [],
   "source": [
    "faculty_only_lib_data=[[data[0],data[1],data[2]] for data in faculty_data]"
   ]
  },
  {
   "cell_type": "code",
   "execution_count": null,
   "metadata": {
    "id": "zAR7zuCDZwq0",
    "outputId": "8639bc78-032d-43c5-90ea-e54c1f06168a"
   },
   "outputs": [
    {
     "name": "stdout",
     "output_type": "stream",
     "text": [
      "Inserted Records into 'Lib_Members'\n"
     ]
    }
   ],
   "source": [
    "try:\n",
    "    cur.executemany(\"INSERT INTO Lib_Members(ID,Name,EMail) VALUES (%s,%s,%s)\",faculty_only_lib_data)\n",
    "    print(\"Inserted Records into 'Lib_Members'\")\n",
    "    con.commit()\n",
    "except Exception as e:\n",
    "    print(e)\n",
    "    con.rollback()"
   ]
  },
  {
   "cell_type": "markdown",
   "metadata": {
    "id": "l4KpBUl5Zwq1"
   },
   "source": [
    "### Inserting Data in Publisher Table"
   ]
  },
  {
   "cell_type": "code",
   "execution_count": null,
   "metadata": {
    "id": "6EaA0pUkZwq2"
   },
   "outputs": [],
   "source": [
    "books_df=pd.read_excel('./Data/Books.xlsx')"
   ]
  },
  {
   "cell_type": "code",
   "execution_count": null,
   "metadata": {
    "id": "dI5aM9LvZwq3"
   },
   "outputs": [],
   "source": [
    "for column in books_df.columns:\n",
    "    books_df[column]=(books_df[column].str.strip()).str.title()"
   ]
  },
  {
   "cell_type": "code",
   "execution_count": null,
   "metadata": {
    "id": "zZnWHL5MZwq4"
   },
   "outputs": [],
   "source": [
    "books_df['Publisher'][books_df['Publisher']==\"O'Reilly\"]=\"O Reilly\""
   ]
  },
  {
   "cell_type": "code",
   "execution_count": null,
   "metadata": {
    "id": "n68-GIfnZwq4"
   },
   "outputs": [],
   "source": [
    "publisher_data=[[publisher]for publisher in books_df['Publisher'].unique()]"
   ]
  },
  {
   "cell_type": "code",
   "execution_count": null,
   "metadata": {
    "id": "y6r67lZMZwq5",
    "outputId": "c69f64dd-b148-47e5-a4d2-70595c6b8fdc"
   },
   "outputs": [
    {
     "name": "stdout",
     "output_type": "stream",
     "text": [
      "Inserted Records into 'Publisher' Table\n"
     ]
    }
   ],
   "source": [
    "try:\n",
    "    cur.executemany(\"INSERT INTO Publisher(Publisher_Name) VALUES (%s)\",publisher_data)\n",
    "    print(\"Inserted Records into 'Publisher' Table\")\n",
    "    con.commit()\n",
    "except Exception as e:\n",
    "    print(e)\n",
    "    con.rollback()"
   ]
  },
  {
   "cell_type": "markdown",
   "metadata": {
    "id": "HjlEitm9Zwq6"
   },
   "source": [
    "### Inserting Data in Vendor Table"
   ]
  },
  {
   "cell_type": "code",
   "execution_count": null,
   "metadata": {
    "id": "u7Tzs3pkZwq7"
   },
   "outputs": [],
   "source": [
    "vendor_data=[[vendor] for vendor in books_df['Vendor'].unique()]"
   ]
  },
  {
   "cell_type": "code",
   "execution_count": null,
   "metadata": {
    "id": "qOVnajVjZwq8",
    "outputId": "2e0d0e60-3fea-4833-8e56-c12bd3da1e2b"
   },
   "outputs": [
    {
     "name": "stdout",
     "output_type": "stream",
     "text": [
      "Inserted Records into 'Vendor' Table\n"
     ]
    }
   ],
   "source": [
    "try:\n",
    "    cur.executemany(\"INSERT INTO Vendor(Vendor_Name) VALUES (%s)\",vendor_data)\n",
    "    print(\"Inserted Records into 'Vendor' Table\")\n",
    "    con.commit()\n",
    "except Exception as e:\n",
    "    print(e)\n",
    "    con.rollback()"
   ]
  },
  {
   "cell_type": "markdown",
   "metadata": {
    "id": "L06W9DAoZwq9"
   },
   "source": [
    "### Inserting Data in Author Table"
   ]
  },
  {
   "cell_type": "code",
   "execution_count": null,
   "metadata": {
    "id": "9PgNt3eWZwq-"
   },
   "outputs": [],
   "source": [
    "author_data=[]\n",
    "for data in books_df['Author'].unique():\n",
    "    for author in data.split(\",\"):\n",
    "        author_data.append([author.strip()])"
   ]
  },
  {
   "cell_type": "code",
   "execution_count": null,
   "metadata": {
    "id": "mDmsTtPyZwq-",
    "outputId": "37fde50c-91e5-4f38-c70a-21b5b9f2088e"
   },
   "outputs": [
    {
     "name": "stdout",
     "output_type": "stream",
     "text": [
      "Inserted Records into 'Author' Table\n"
     ]
    }
   ],
   "source": [
    "try:\n",
    "    cur.executemany(\"INSERT INTO Author(Author_Name) VALUES (%s)\",author_data)\n",
    "    print(\"Inserted Records into 'Author' Table\")\n",
    "    con.commit()\n",
    "except Exception as e:\n",
    "    print(e)\n",
    "    con.rollback()"
   ]
  },
  {
   "cell_type": "markdown",
   "metadata": {
    "id": "G5jzt8HjZwq_"
   },
   "source": [
    "### Inserting Data in Books Table"
   ]
  },
  {
   "cell_type": "code",
   "execution_count": null,
   "metadata": {
    "id": "Dvi2_EiaZwrA"
   },
   "outputs": [],
   "source": [
    "#For Simplicity, keeping the number of copies to 1\n",
    "no_of_copies=1"
   ]
  },
  {
   "cell_type": "code",
   "execution_count": null,
   "metadata": {
    "id": "Cfkg9269ZwrA"
   },
   "outputs": [],
   "source": [
    "books_df['Name'][books_df['Name']==\"Mongodb Administator'S Guide\"]=\"Mongodb Administrators Guide\""
   ]
  },
  {
   "cell_type": "code",
   "execution_count": null,
   "metadata": {
    "id": "mtr0EMbMZwrC"
   },
   "outputs": [],
   "source": [
    "books_data=[]\n",
    "for isbn,row in books_df.groupby('ISBN'):\n",
    "    data=row.iloc[0]\n",
    "    name=data['Name']\n",
    "    try:\n",
    "        publisher_id=cur.execute(f\"\"\"SELECT Publisher_ID FROM Publisher WHERE Publisher_Name='{data['Publisher']}' \"\"\")\n",
    "        publisher_id=cur.fetchone()[0]\n",
    "    except Exception as e:\n",
    "        print(e);con.rollback();break\n",
    "    try:\n",
    "        vendor_id=cur.execute(f\"\"\" SELECT Vendor_ID FROM Vendor WHERE Vendor_Name='{data['Vendor']}' \"\"\")\n",
    "        vendor_id=cur.fetchone()[0]\n",
    "    except Exception as e:\n",
    "        print(e);con.rollback();break\n",
    "    no_of_copies=no_of_copies\n",
    "    books_data.append([isbn,name,publisher_id,vendor_id,no_of_copies])"
   ]
  },
  {
   "cell_type": "code",
   "execution_count": null,
   "metadata": {
    "id": "W_3BXXp0ZwrD",
    "outputId": "e95b464d-85c3-47d8-e6dc-d38d7860d0c2"
   },
   "outputs": [
    {
     "name": "stdout",
     "output_type": "stream",
     "text": [
      "Inserted Records into 'Books' Table\n"
     ]
    }
   ],
   "source": [
    "try:\n",
    "    cur.executemany(\"INSERT INTO Books(ID,Name,Publisher_ID,Vendor_ID,No_of_Copies) VALUES (%s,%s,%s,%s,%s)\",books_data)\n",
    "    print(\"Inserted Records into 'Books' Table\")\n",
    "    con.commit()\n",
    "except Exception as e:\n",
    "    print(e)\n",
    "    con.rollback()"
   ]
  },
  {
   "cell_type": "code",
   "execution_count": null,
   "metadata": {
    "id": "5ygg4hWiZwrE",
    "outputId": "a53456ad-41cf-461b-b406-1fcc0b3de353"
   },
   "outputs": [
    {
     "name": "stdout",
     "output_type": "stream",
     "text": [
      "Inserted Records into 'Lib_Items' Table\n"
     ]
    }
   ],
   "source": [
    "try:\n",
    "    cur.executemany(\"INSERT INTO Lib_Items VALUES (%s,%s,%s,%s,%s)\",books_data)\n",
    "    print(\"Inserted Records into 'Lib_Items' Table\")\n",
    "    con.commit()\n",
    "except Exception as e:\n",
    "    print(e)\n",
    "    con.rollback()"
   ]
  },
  {
   "cell_type": "markdown",
   "metadata": {
    "id": "aghQ2MM5ZwrF"
   },
   "source": [
    "### Inserting Data in Book_Author Association Table"
   ]
  },
  {
   "cell_type": "code",
   "execution_count": null,
   "metadata": {
    "id": "24fJrlU1ZwrF"
   },
   "outputs": [],
   "source": [
    "association_data=[]\n",
    "for isbn,row in books_df.groupby('ISBN'):\n",
    "    data=row.iloc[0]\n",
    "    for author in data['Author'].split(\",\"):\n",
    "        try:\n",
    "            author_id=cur.execute(f\"SELECT Author_ID FROM Author WHERE Author_Name='{author.strip()}'\")\n",
    "            author_id=cur.fetchone()[0]\n",
    "            association_data.append([isbn,author_id])\n",
    "        except Exception as e:\n",
    "            print(e);con.rollback();break"
   ]
  },
  {
   "cell_type": "code",
   "execution_count": null,
   "metadata": {
    "id": "8zINgC6zZwrG",
    "outputId": "e736c9bb-39ab-4e5d-ed17-75e151fd53e1"
   },
   "outputs": [
    {
     "name": "stdout",
     "output_type": "stream",
     "text": [
      "Inserted Records into 'Book_Author' Association Table\n"
     ]
    }
   ],
   "source": [
    "try:\n",
    "    cur.executemany(\"INSERT INTO Book_Author(Book_ID,Author_ID) VALUES (%s,%s)\",association_data)\n",
    "    print(\"Inserted Records into 'Book_Author' Association Table\")\n",
    "    con.commit()\n",
    "except Exception as e:\n",
    "    print(e)\n",
    "    con.rollback()"
   ]
  },
  {
   "cell_type": "markdown",
   "metadata": {
    "id": "0Qc0onSUZwrH"
   },
   "source": [
    "### Inserting Data in Assets Table"
   ]
  },
  {
   "cell_type": "code",
   "execution_count": null,
   "metadata": {
    "id": "WI-u167TZwrH"
   },
   "outputs": [],
   "source": [
    "assets_data=[]\n",
    "for isbn,row in books_df.groupby('ISBN'):\n",
    "    data=row.iloc[0]\n",
    "    try:\n",
    "        no_copies=cur.execute(f\"SELECT No_Of_Copies FROM Books WHERE Name='{data['Name']}'\")\n",
    "        no_copies=cur.fetchone()[0]\n",
    "        for i in range(no_copies):\n",
    "            assets_data.append([isbn])\n",
    "    except Exception as e:\n",
    "        print(e);con.rollback();break"
   ]
  },
  {
   "cell_type": "code",
   "execution_count": null,
   "metadata": {
    "id": "QpNAqCF2ZwrI"
   },
   "outputs": [],
   "source": [
    "assets_data"
   ]
  },
  {
   "cell_type": "code",
   "execution_count": null,
   "metadata": {
    "id": "i2lFb8X1ZwrJ",
    "outputId": "df9b743d-8d93-4c16-9546-a5d96db5c260"
   },
   "outputs": [
    {
     "name": "stdout",
     "output_type": "stream",
     "text": [
      "Inserted Records into 'Assets' Table\n"
     ]
    }
   ],
   "source": [
    "try:\n",
    "    cur.executemany(\"INSERT INTO Assets(Asset_ID) VALUES (%s)\",assets_data)\n",
    "    print(\"Inserted Records into 'Assets' Table\")\n",
    "    con.commit()\n",
    "except Exception as e:\n",
    "    print(e)\n",
    "    con.rollback()"
   ]
  },
  {
   "cell_type": "code",
   "execution_count": null,
   "metadata": {
    "id": "sqtsg4CdZwrK"
   },
   "outputs": [],
   "source": [
    "con.close()"
   ]
  },
  {
   "cell_type": "markdown",
   "metadata": {
    "id": "PEdyZt9cZwrK"
   },
   "source": [
    "### Creating Functions/Stored Procedures for Triggers"
   ]
  },
  {
   "cell_type": "markdown",
   "metadata": {
    "id": "jGoMq76nZwrL"
   },
   "source": [
    "#### Function to Change No_of_Copies of a Book"
   ]
  },
  {
   "cell_type": "code",
   "execution_count": null,
   "metadata": {
    "id": "4JbunLjVZwrM",
    "outputId": "32399baa-d37f-4535-d6ef-a088d53c4dbb"
   },
   "outputs": [
    {
     "name": "stdout",
     "output_type": "stream",
     "text": [
      "Function 'change_no_of_copies' Created Successfully\n"
     ]
    }
   ],
   "source": [
    "change_no_of_copies=\"\"\"\n",
    "CREATE OR REPLACE FUNCTION change_no_of_copies(isbn text, number int, operation text)\n",
    "RETURNS VOID\n",
    "LANGUAGE PLPGSQL\n",
    "AS\n",
    "    $$\n",
    "        BEGIN\n",
    "            IF operation='increment' THEN UPDATE Books SET No_of_Copies=No_of_Copies+number WHERE ID=isbn;\n",
    "                END IF;\n",
    "            IF operation='decrement' THEN UPDATE Books SET No_of_Copies=No_of_Copies-number WHERE ID=isbn;\n",
    "                END IF;\n",
    "        END;\n",
    "    $$\n",
    "\"\"\"\n",
    "try:\n",
    "    cur.execute(change_no_of_copies)\n",
    "    print(\"Function 'change_no_of_copies' Created Successfully\")\n",
    "    con.commit()\n",
    "except Exception as e:\n",
    "    print(e)\n",
    "    con.rollback()"
   ]
  },
  {
   "cell_type": "markdown",
   "metadata": {
    "id": "7QmOv0GBZwrN"
   },
   "source": [
    "#### Function to Decrement No_of_Copies by 1 when Issuing a Book"
   ]
  },
  {
   "cell_type": "code",
   "execution_count": null,
   "metadata": {
    "id": "fvnmD8skZwrN",
    "outputId": "006f324d-a480-44ec-b02f-ebbcf36ef423"
   },
   "outputs": [
    {
     "name": "stdout",
     "output_type": "stream",
     "text": [
      "Function 'function_after_issue' Created Successfully\n"
     ]
    }
   ],
   "source": [
    "function_after_issue=\"\"\"\n",
    "CREATE OR REPLACE FUNCTION function_after_issue()\n",
    "RETURNS TRIGGER\n",
    "LANGUAGE PLPGSQL\n",
    "AS\n",
    "    $$\n",
    "        DECLARE isbn TEXT;\n",
    "        BEGIN\n",
    "            SELECT ID FROM Books,Assets WHERE Assets.Accession_No=NEW.Accession_No AND Books.ID=Assets.Asset_ID\n",
    "            INTO isbn;\n",
    "            PERFORM change_no_of_copies(isbn,1,'decrement');\n",
    "        RETURN NULL;\n",
    "        END;\n",
    "    $$\n",
    "\"\"\"\n",
    "try:\n",
    "    cur.execute(function_after_issue)\n",
    "    print(\"Function 'function_after_issue' Created Successfully\")\n",
    "    con.commit()\n",
    "except Exception as e:\n",
    "    print(e)\n",
    "    con.rollback()"
   ]
  },
  {
   "cell_type": "markdown",
   "metadata": {
    "id": "E8hH6FPsZwrO"
   },
   "source": [
    "#### Function to Increment No_of_Copies by 1 when Collecting a Book Back"
   ]
  },
  {
   "cell_type": "code",
   "execution_count": null,
   "metadata": {
    "id": "l8CudCGWZwrP",
    "outputId": "c24f2641-6984-40c4-b706-9198c007d03d"
   },
   "outputs": [
    {
     "name": "stdout",
     "output_type": "stream",
     "text": [
      "Function 'function_after_return' Created Successfully\n"
     ]
    }
   ],
   "source": [
    "function_after_return=\"\"\"\n",
    "CREATE OR REPLACE FUNCTION function_after_return()\n",
    "RETURNS TRIGGER\n",
    "LANGUAGE PLPGSQL\n",
    "AS\n",
    "    $$\n",
    "        DECLARE isbn TEXT;\n",
    "        BEGIN\n",
    "            SELECT ID FROM Books,Assets WHERE Assets.Accession_No=NEW.Accession_No AND Books.ID=Assets.Asset_ID\n",
    "            INTO isbn;\n",
    "            PERFORM change_no_of_copies(isbn,1,'increment');\n",
    "        RETURN NULL;\n",
    "        END;\n",
    "    $$\n",
    "\"\"\"\n",
    "try:\n",
    "    cur.execute(function_after_return)\n",
    "    print(\"Function 'function_after_return' Created Successfully\")\n",
    "    con.commit()\n",
    "except Exception as e:\n",
    "    print(e)\n",
    "    con.rollback()"
   ]
  },
  {
   "cell_type": "markdown",
   "metadata": {
    "id": "7ocqG5VyZwrQ"
   },
   "source": [
    "#### Function to Populate Defaulters Table if a book is returned after Due Date"
   ]
  },
  {
   "cell_type": "code",
   "execution_count": null,
   "metadata": {
    "id": "QWJ--NQpZwrR",
    "outputId": "d31b970e-1ff9-4fe4-a812-e86948cb1aa0"
   },
   "outputs": [
    {
     "name": "stdout",
     "output_type": "stream",
     "text": [
      "Function 'function_populate_defaulters' Created Successfully\n"
     ]
    }
   ],
   "source": [
    "function_populate_defaulters=\"\"\"\n",
    "CREATE OR REPLACE FUNCTION function_populate_defaulters()\n",
    "RETURNS TRIGGER\n",
    "LANGUAGE PLPGSQL\n",
    "AS\n",
    "    $$\n",
    "        DECLARE no_of_days_delayed INTEGER;\n",
    "        DECLARE isbn TEXT;\n",
    "        BEGIN\n",
    "            SELECT ID FROM Books,Assets WHERE Assets.Accession_No=OLD.Accession_No AND Assets.Asset_ID=Books.ID INTO isbn;\n",
    "            no_of_days_delayed:=(NEW.Returned_Date - OLD.Due_Date)::INTEGER;\n",
    "            INSERT INTO Defaulters(Member_ID,Issue_ID,Days_Delayed) VALUES (OLD.Member_ID,OLD.Issue_ID,no_of_days_delayed);\n",
    "            PERFORM change_no_of_copies(isbn,1,'increment');\n",
    "        RETURN NULL;\n",
    "        END;\n",
    "    $$\n",
    "\"\"\"\n",
    "try:\n",
    "    cur.execute(function_populate_defaulters)\n",
    "    print(\"Function 'function_populate_defaulters' Created Successfully\")\n",
    "    con.commit()\n",
    "except Exception as e:\n",
    "    print(e)\n",
    "    con.rollback()"
   ]
  },
  {
   "cell_type": "markdown",
   "metadata": {
    "id": "lT7XAUbAZwrS"
   },
   "source": [
    "### Creating Triggers"
   ]
  },
  {
   "cell_type": "markdown",
   "metadata": {
    "id": "ravcEf9wZwrU"
   },
   "source": [
    "#### Trigger which executes after a Book is Issued"
   ]
  },
  {
   "cell_type": "code",
   "execution_count": null,
   "metadata": {
    "id": "vtjI0JNYZwrV",
    "outputId": "8bddf034-02f4-4227-e0fd-72aa38f98865"
   },
   "outputs": [
    {
     "name": "stdout",
     "output_type": "stream",
     "text": [
      "Trigger 'trigger_for_issue_book' Created Successfully\n"
     ]
    }
   ],
   "source": [
    "trigger_for_issue_book=\"\"\"\n",
    "CREATE OR REPLACE TRIGGER trigger_for_issue_book\n",
    "AFTER INSERT ON Issue_Register\n",
    "FOR EACH ROW\n",
    "EXECUTE FUNCTION function_after_issue();\n",
    "\"\"\"\n",
    "try:\n",
    "    cur.execute(trigger_for_issue_book)\n",
    "    print(\"Trigger 'trigger_for_issue_book' Created Successfully\")\n",
    "    con.commit()\n",
    "except Exception as e:\n",
    "    print(e)\n",
    "    con.rollback()"
   ]
  },
  {
   "cell_type": "markdown",
   "metadata": {
    "id": "tvTFKeQaZwrW"
   },
   "source": [
    "#### Trigger which executes after the Book is Returned"
   ]
  },
  {
   "cell_type": "code",
   "execution_count": null,
   "metadata": {
    "id": "tduWXBPsZwrX",
    "outputId": "a1a95c40-3a46-4141-c262-2dbea954099a"
   },
   "outputs": [
    {
     "name": "stdout",
     "output_type": "stream",
     "text": [
      "Trigger 'trigger_for_return_book' Created Successfully\n"
     ]
    }
   ],
   "source": [
    "trigger_for_return_book=\"\"\"\n",
    "CREATE OR REPLACE TRIGGER trigger_for_return_book\n",
    "AFTER UPDATE ON Issue_Register\n",
    "FOR EACH ROW\n",
    "WHEN (OLD.Returned_Date IS NULL AND NEW.Returned_Date IS NOT NULL AND NEW.Returned_Date <= OLD.Due_Date)\n",
    "EXECUTE FUNCTION function_after_return();\n",
    "\"\"\"\n",
    "try:\n",
    "    cur.execute(trigger_for_return_book)\n",
    "    print(\"Trigger 'trigger_for_return_book' Created Successfully\")\n",
    "    con.commit()\n",
    "except Exception as e:\n",
    "    print(e)\n",
    "    con.rollback()"
   ]
  },
  {
   "cell_type": "markdown",
   "metadata": {
    "id": "JQUm2eS9ZwrY"
   },
   "source": [
    "#### Trigger which executes if the Book is returned after Due Date"
   ]
  },
  {
   "cell_type": "code",
   "execution_count": null,
   "metadata": {
    "id": "zRSph645ZwrY",
    "outputId": "6ed62a74-ac8b-48e8-feea-ba7d3463806e"
   },
   "outputs": [
    {
     "name": "stdout",
     "output_type": "stream",
     "text": [
      "Trigger 'trigger_populate_defaulters' Created Successfully\n"
     ]
    }
   ],
   "source": [
    "trigger_populate_defaulters=\"\"\"\n",
    "CREATE OR REPLACE TRIGGER trigger_for_populating_defaulters\n",
    "AFTER UPDATE ON Issue_Register\n",
    "FOR EACH ROW\n",
    "WHEN (OLD.Returned_Date IS NULL AND NEW.Returned_Date IS NOT NULL AND NEW.Returned_Date > OLD.Due_Date)\n",
    "EXECUTE FUNCTION function_populate_defaulters();\n",
    "\"\"\"\n",
    "try:\n",
    "    cur.execute(trigger_populate_defaulters)\n",
    "    print(\"Trigger 'trigger_populate_defaulters' Created Successfully\")\n",
    "    con.commit()\n",
    "except Exception as e:\n",
    "    print(e)\n",
    "    con.rollback()"
   ]
  },
  {
   "cell_type": "code",
   "execution_count": null,
   "metadata": {
    "id": "g4yWuePhZwrZ"
   },
   "outputs": [],
   "source": [
    "con.close()"
   ]
  }
 ],
 "metadata": {
  "colab": {
   "provenance": []
  },
  "kernelspec": {
   "display_name": "Python 3 (ipykernel)",
   "language": "python",
   "name": "python3"
  },
  "language_info": {
   "codemirror_mode": {
    "name": "ipython",
    "version": 3
   },
   "file_extension": ".py",
   "mimetype": "text/x-python",
   "name": "python",
   "nbconvert_exporter": "python",
   "pygments_lexer": "ipython3",
   "version": "3.11.5"
  }
 },
 "nbformat": 4,
 "nbformat_minor": 4
}
